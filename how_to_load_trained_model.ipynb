{
 "cells": [
  {
   "cell_type": "code",
   "execution_count": 1,
   "metadata": {
    "collapsed": true
   },
   "outputs": [],
   "source": [
    "import numpy as np\n",
    "from sklearn.metrics import roc_curve, auc\n",
    "from joblib import load\n",
    "import pandas as pd"
   ]
  },
  {
   "cell_type": "markdown",
   "source": [
    "One of the outputs of the machine learning pipeline is a .joblib file, which contains the trained classifier. This file typically encapsulates the trained model along with its associated metadata, such as hyperparameters or feature transformations. It's a serialized version of the trained model, allowing for easy storage, sharing, and reusability of the model within the pipeline or across different applications.\n",
    "\n",
    "The line below shows how simple is to load the model."
   ],
   "metadata": {
    "collapsed": false
   }
  },
  {
   "cell_type": "code",
   "execution_count": 2,
   "outputs": [],
   "source": [
    "clf = load('/home/sergiov/PycharmProjects/ICB_Response_Model/scripts/model.joblib')"
   ],
   "metadata": {
    "collapsed": false
   }
  },
  {
   "cell_type": "markdown",
   "source": [
    "After loading the model, we need to ensure that the dataset aligns with the model. This alignment ensures that the input features are in the same format and undergo the same transformations as the training data. These preprocessing steps may include:\n",
    "\n",
    "Feature Scaling/Normalization: Ensuring that numerical features are scaled to the same range as during training (e.g., using Min-Max scaling or z-score normalization).\n",
    "\n",
    "Handling Missing Values: Imputing missing values using the same strategy as during training, or ensuring that the dataset has no missing values if the model does not tolerate them.\n",
    "\n",
    "Encoding Categorical Variables: Converting categorical variables into a format compatible with the model, such as one-hot encoding or label encoding.\n",
    "\n",
    "Feature Selection: If feature selection was performed during training, ensuring that only the selected features are present in the dataset.\n",
    "\n",
    "By aligning the dataset with the model in this manner, you can ensure that the input data is compatible with the model's expectations, maximizing its performance and predictive accuracy."
   ],
   "metadata": {
    "collapsed": false
   }
  },
  {
   "cell_type": "code",
   "execution_count": 3,
   "outputs": [],
   "source": [
    "model_7_variables = [\"TMB_zscore\", \"CCND1\", \"PD1.zscore\", \"PDL1.zscore\", \"HLA-I.GSVA\", \"IFNg_Ayers.GSVA\",\n",
    "                          \"Stroma_EMT.GSVA\", \"T_cell_inflamed.GSVA\", \"TGF_beta.GSVA\", \"Macrophages M1\",\n",
    "                          \"T cells CD4 memory activated\", \"T cells CD8\", \"T cells regulatory (Tregs)\", \"APM_8.GSVA\",\n",
    "                          \"t.spec.lncRNA.GSVA\"]\n",
    "\n",
    "data = pd.read_csv('/datasets/sergio/Integrated_data/df_WES+RNA_response.csv')\n",
    "\n",
    "# Keep only variables used during training phase and remove outliers\n",
    "data = data[model_7_variables + ['Response']].dropna()\n",
    "X = data[model_7_variables]\n",
    "\n",
    "# Convert R/NR to binary\n",
    "y_true = np.where(data['Response'] == 'R', 1, 0)"
   ],
   "metadata": {
    "collapsed": false
   }
  },
  {
   "cell_type": "markdown",
   "source": [
    "Once we have converted our dataset into a format that maximizes model performance we can just use it for predicting over the new dataset."
   ],
   "metadata": {
    "collapsed": false
   }
  },
  {
   "cell_type": "code",
   "execution_count": 4,
   "outputs": [],
   "source": [
    "y_pred = clf.predict_proba(X)[:, 1]\n",
    "\n",
    "fpr, tpr, _ = roc_curve(y_true, y_pred)\n",
    "roc_auc = auc(fpr, tpr)"
   ],
   "metadata": {
    "collapsed": false
   }
  },
  {
   "cell_type": "code",
   "execution_count": 5,
   "outputs": [
    {
     "data": {
      "text/plain": "0.8188735573597409"
     },
     "execution_count": 5,
     "metadata": {},
     "output_type": "execute_result"
    }
   ],
   "source": [
    "roc_auc"
   ],
   "metadata": {
    "collapsed": false
   }
  }
 ],
 "metadata": {
  "kernelspec": {
   "display_name": "Python 3",
   "language": "python",
   "name": "python3"
  },
  "language_info": {
   "codemirror_mode": {
    "name": "ipython",
    "version": 2
   },
   "file_extension": ".py",
   "mimetype": "text/x-python",
   "name": "python",
   "nbconvert_exporter": "python",
   "pygments_lexer": "ipython2",
   "version": "2.7.6"
  }
 },
 "nbformat": 4,
 "nbformat_minor": 0
}
